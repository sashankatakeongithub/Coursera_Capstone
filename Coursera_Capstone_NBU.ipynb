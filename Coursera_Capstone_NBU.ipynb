{
    "nbformat": 4, 
    "metadata": {
        "language_info": {
            "pygments_lexer": "ipython3", 
            "file_extension": ".py", 
            "mimetype": "text/x-python", 
            "codemirror_mode": {
                "name": "ipython", 
                "version": 3
            }, 
            "version": "3.5.5", 
            "name": "python", 
            "nbconvert_exporter": "python"
        }, 
        "kernelspec": {
            "name": "python3", 
            "language": "python", 
            "display_name": "Python 3.5"
        }
    }, 
    "cells": [
        {
            "source": "This is to check github watson studio integration.\nIs it working fine?\nThis notebook should be uploaded into github repository created by the user", 
            "metadata": {
                "collapsed": true
            }, 
            "cell_type": "markdown"
        }, 
        {
            "source": "import pandas as pd\nimport pylab as pl\nimport numpy as np", 
            "outputs": [], 
            "execution_count": 1, 
            "cell_type": "code", 
            "metadata": {}
        }, 
        {
            "source": "print(\"Hello Capstone Project Course!\")", 
            "outputs": [
                {
                    "name": "stdout", 
                    "text": "Hello Capstone Project Course!\n", 
                    "output_type": "stream"
                }
            ], 
            "execution_count": 2, 
            "cell_type": "code", 
            "metadata": {}
        }, 
        {
            "source": "", 
            "outputs": [], 
            "execution_count": null, 
            "cell_type": "code", 
            "metadata": {}
        }
    ], 
    "nbformat_minor": 1
}